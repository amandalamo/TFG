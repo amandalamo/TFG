{
  "nbformat": 4,
  "nbformat_minor": 0,
  "metadata": {
    "colab": {
      "name": "Untitled1.ipynb",
      "provenance": [],
      "authorship_tag": "ABX9TyMb0NMI8albMh/+ivnnyz0t",
      "include_colab_link": true
    },
    "kernelspec": {
      "name": "python3",
      "display_name": "Python 3"
    },
    "language_info": {
      "name": "python"
    }
  },
  "cells": [
    {
      "cell_type": "markdown",
      "metadata": {
        "id": "view-in-github",
        "colab_type": "text"
      },
      "source": [
        "<a href=\"https://colab.research.google.com/github/amandalamo/TFG/blob/main/importacion_coco.ipynb\" target=\"_parent\"><img src=\"https://colab.research.google.com/assets/colab-badge.svg\" alt=\"Open In Colab\"/></a>"
      ]
    },
    {
      "cell_type": "code",
      "metadata": {
        "id": "LhysOBNQJh5d"
      },
      "source": [
        "import pandas as pd\n",
        "import numpy as np\n",
        "\n",
        "import matplotlib.pyplot as plt\n",
        "import matplotlib.image as mpimg\n",
        "import scipy.ndimage\n",
        "import json\n",
        "import matplotlib.patches as patches\n",
        "import os\n",
        "\n",
        "import h5py\n",
        "import sys\n",
        "path='C:/Users/yosoy/OneDrive/Documentos/TFG/deprecated-challenge2017/'\n",
        "path_etiquetas_val='C:/Users/yosoy/OneDrive/Documentos/TFG/annotations/'\n",
        "path_val='C:/Users/yosoy/OneDrive/Documentos/TFG/val2017/'\n",
        "\n",
        "#lista de imagenes a importar\n",
        "with open(path+'val-ids.txt') as f:\n",
        "    lines = f.readlines()\n",
        "for i in range(len(lines)):\n",
        "    lines[i]=lines[i].replace('\\n','')\n",
        "    \n",
        "#Etiquetas a importar\n",
        "\n",
        "with open(path_etiquetas_val+ 'instances_val2017.json') as f:\n",
        "    data = json.load(f)\n",
        "\n",
        "#Etiquetas a extraccion datos importantes\n",
        "bbox=[]\n",
        "image_id=[]\n",
        "dato_id=[]\n",
        "category_id=[]\n",
        "img=[]\n",
        "dim=[]\n",
        "for annotations in data['annotations']:\n",
        "    \n",
        "    bbox.append(annotations['bbox'])\n",
        "    id_aux=annotations['image_id']\n",
        "    image_id.append(id_aux) #id imagen\n",
        "    dato_id.append(annotations['id']) #id de la imagen-bbox\n",
        "    category_id.append(annotations['category_id'])\n",
        "    img_aux=mpimg.imread(path_val+str(id_aux).zfill(12)+'.jpg')\n",
        "    img.append(img_aux)\n",
        "    dim.append(img_aux.shape)\n",
        "\t\n",
        "\t\n",
        "#COMPROBACIONES\n",
        "\n",
        "#Busqueda duplicados\n",
        "lista_imagenes=np.array(image_id)\n",
        "lista_bbox=np.array(bbox)\n",
        "print(len(lista_imagenes))\n",
        "distintos, counts_elements=np.unique(lista_imagenes ,return_counts=True)\n",
        "print(len(distintos))\n",
        "\n",
        "\n",
        "#Dibujar una imagen con todos sus bounding box\n",
        "k=9\n",
        "indices=np.where(lista_imagenes==distintos[k])\n",
        "selec_bbox=lista_bbox[indices]\n",
        "\n",
        "selec_img=mpimg.imread(path_val+str(distintos[k]).zfill(12)+'.jpg')\n",
        "\n",
        "\n",
        "fig, ax = plt.subplots()\n",
        "\n",
        "ax.imshow(selec_img)\n",
        "for i in range(selec_bbox.shape[0]):\n",
        "    rect = patches.Rectangle((selec_bbox[i][0], selec_bbox[i][1]),selec_bbox[i][2], selec_bbox[i][3], linewidth=1, edgecolor='r', facecolor='none')\n",
        "    ax.add_patch(rect)\n",
        "plt.show()"
      ],
      "execution_count": null,
      "outputs": []
    }
  ]
}